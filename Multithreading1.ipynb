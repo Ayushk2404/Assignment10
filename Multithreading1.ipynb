{
 "cells": [
  {
   "cell_type": "code",
   "execution_count": null,
   "metadata": {},
   "outputs": [],
   "source": [
    "#Q1\n",
    "'''\n",
    "Multithreading in Python:\n",
    "Multithreading in Python refers to the ability of a program to execute multiple threads concurrently within the same process. A thread is the smallest unit of execution in a program, \n",
    "and multithreading allows different threads to perform different tasks simultaneously. Each thread shares the same memory space, which makes communication between threads easier and more efficient. \n",
    "Threads can be used to perform parallel tasks, take advantage of multiple CPU cores, and enhance the responsiveness of programs with multiple I/O operations.'''"
   ]
  },
  {
   "cell_type": "code",
   "execution_count": null,
   "metadata": {},
   "outputs": [],
   "source": [
    "#Q2\n",
    "'''\n",
    "Why is threading used and the threading module:\n",
    "Threading is used to achieve concurrent execution of tasks in a program. It is particularly useful when a program has tasks that can be performed independently and can run in parallel, such as handling multiple network connections, processing data in the background, or responding to user interactions while performing background tasks.\n",
    "\n",
    "The threading module is used to handle threads in Python. It provides a high-level interface for creating and managing threads, allowing developers to create and control threads with ease.\n",
    "\n",
    "Explanation of the following functions in the threading module:\n",
    "** activeCount(): This function returns the number of Thread objects currently alive. It includes both daemon and non-daemon threads.\n",
    "\n",
    "** currentThread(): This function returns the current Thread object, which represents the thread from which the function is called.\n",
    "\n",
    "** enumerate(): This function returns a list of all Thread objects currently alive. It includes both daemon and non-daemon threads.\n",
    "\n",
    "\n",
    "'''\n"
   ]
  },
  {
   "cell_type": "code",
   "execution_count": null,
   "metadata": {},
   "outputs": [],
   "source": [
    "#Q3\n",
    "'''\n",
    "run(): This method represents the entry point of the thread and contains the code that will be executed when the thread starts. It needs to be overridden by a subclass of Thread to define the specific task the thread should perform.\n",
    "\n",
    "start(): This method starts the thread's activity. It calls the run() method of the thread in a separate thread of control.\n",
    "\n",
    "join(): This method blocks the calling thread until the thread whose join() method is called completes its execution.\n",
    "\n",
    "isAlive(): This method returns True if the thread is currently running or alive and False otherwise.\n",
    "'''"
   ]
  },
  {
   "cell_type": "code",
   "execution_count": null,
   "metadata": {},
   "outputs": [],
   "source": [
    "#Q4\n",
    "import threading\n",
    "\n",
    "def print_squares():\n",
    "    for i in range(1, 6):\n",
    "        print(f\"Square of {i}: {i*i}\")\n",
    "\n",
    "def print_cubes():\n",
    "    for i in range(1, 6):\n",
    "        print(f\"Cube of {i}: {i*i*i}\")\n",
    "\n",
    "# Creating the thread objects\n",
    "thread_squares = threading.Thread(target=print_squares)\n",
    "thread_cubes = threading.Thread(target=print_cubes)\n",
    "\n",
    "# Starting the threads\n",
    "thread_squares.start()\n",
    "thread_cubes.start()\n",
    "\n",
    "# Waiting for both threads to finish\n",
    "thread_squares.join()\n",
    "thread_cubes.join()\n",
    "\n",
    "print(\"Both threads have finished.\")\n"
   ]
  },
  {
   "cell_type": "code",
   "execution_count": null,
   "metadata": {},
   "outputs": [],
   "source": [
    "#Q5\n",
    "'''\n",
    "Advantages and Disadvantages of Multithreading:\n",
    "\n",
    "Advantages:\n",
    "\n",
    "Improved Performance: Multithreading can take advantage of multiple CPU cores and parallelize tasks, leading to faster execution of certain operations.\n",
    "Responsiveness: Multithreading allows programs to remain responsive while performing time-consuming tasks in the background.\n",
    "Resource Sharing: Threads can share the same memory space, making communication between threads more efficient.\n",
    "Simplified Design: In some cases, multithreading can lead to simpler program designs by breaking complex tasks into smaller threads.\n",
    "Efficient I/O Operations: Threads are useful for tasks that involve waiting for I/O, as other threads can continue execution during that time.\n",
    "\n",
    "Disadvantages:\n",
    "\n",
    "Complexity: Writing multithreaded programs can be challenging due to potential issues like race conditions and deadlocks.\n",
    "Increased Debugging Difficulty: Debugging multithreaded programs can be more complex due to non-deterministic behavior caused by thread scheduling.\n",
    "Global State Access: Multithreading can lead to shared state among threads, increasing the likelihood of bugs related to concurrent access to shared resources.\n",
    "GIL Limitations: In CPython, the Global Interpreter Lock (GIL) prevents true multithreading for CPU-bound tasks, limiting the full benefits of multiple cores.\n",
    "'''"
   ]
  },
  {
   "cell_type": "code",
   "execution_count": null,
   "metadata": {},
   "outputs": [],
   "source": [
    "#Q6\n",
    "'''\n",
    "Explanation of Deadlocks and Race Conditions:\n",
    "Deadlock: A deadlock occurs when two or more threads are unable to proceed with their execution because each thread is waiting for a resource that is held by another thread, forming a circular dependency. This situation leads to a standstill, where no thread can make progress, and the program hangs indefinitely.\n",
    "\n",
    "Race Condition: A race condition occurs when multiple threads access shared resources or variables concurrently, and the final outcome of the program depends on the relative timing of their execution. The result of the program becomes unpredictable, and it may lead to unexpected behavior or data corruption.\n",
    "\n",
    "Race conditions and deadlocks are common challenges in multithreading and can result in critical issues if not handled correctly. Proper synchronization mechanisms, like locks or semaphores, are used to avoid race conditions, and deadlock avoidance techniques are employed to prevent deadlocks.\n",
    "\n",
    "'''"
   ]
  }
 ],
 "metadata": {
  "language_info": {
   "name": "python"
  },
  "orig_nbformat": 4
 },
 "nbformat": 4,
 "nbformat_minor": 2
}
